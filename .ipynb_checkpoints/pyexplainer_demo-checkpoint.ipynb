{
 "cells": [
  {
   "cell_type": "markdown",
   "id": "dated-worst",
   "metadata": {},
   "source": [
    "# Demo"
   ]
  },
  {
   "cell_type": "code",
   "execution_count": 2,
   "id": "stunning-summer",
   "metadata": {},
   "outputs": [
    {
     "ename": "AttributeError",
     "evalue": "module 'pyexplainer.pyexplainer_pyexplainer' has no attribute 'get_default_data_and_model'",
     "output_type": "error",
     "traceback": [
      "\u001b[1;31m---------------------------------------------------------------------------\u001b[0m",
      "\u001b[1;31mAttributeError\u001b[0m                            Traceback (most recent call last)",
      "\u001b[1;32m<ipython-input-2-b505c1840f4e>\u001b[0m in \u001b[0;36m<module>\u001b[1;34m\u001b[0m\n\u001b[0;32m      2\u001b[0m \u001b[1;32mimport\u001b[0m \u001b[0mpyexplainer\u001b[0m\u001b[1;33m.\u001b[0m\u001b[0mpyexplainer_pyexplainer\u001b[0m \u001b[1;32mas\u001b[0m \u001b[0mpyexplainer_pyexplainer\u001b[0m\u001b[1;33m\u001b[0m\u001b[1;33m\u001b[0m\u001b[0m\n\u001b[0;32m      3\u001b[0m \u001b[1;33m\u001b[0m\u001b[0m\n\u001b[1;32m----> 4\u001b[1;33m \u001b[0mdefault\u001b[0m \u001b[1;33m=\u001b[0m \u001b[0mpyexplainer_pyexplainer\u001b[0m\u001b[1;33m.\u001b[0m\u001b[0mget_default_data_and_model\u001b[0m\u001b[1;33m(\u001b[0m\u001b[1;33m)\u001b[0m\u001b[1;33m\u001b[0m\u001b[1;33m\u001b[0m\u001b[0m\n\u001b[0m\u001b[0;32m      5\u001b[0m py_explainer = PyExplainer(X_train=default['X_train'],\n\u001b[0;32m      6\u001b[0m                              \u001b[0my_train\u001b[0m\u001b[1;33m=\u001b[0m\u001b[0mdefault\u001b[0m\u001b[1;33m[\u001b[0m\u001b[1;34m'y_train'\u001b[0m\u001b[1;33m]\u001b[0m\u001b[1;33m,\u001b[0m\u001b[1;33m\u001b[0m\u001b[1;33m\u001b[0m\u001b[0m\n",
      "\u001b[1;31mAttributeError\u001b[0m: module 'pyexplainer.pyexplainer_pyexplainer' has no attribute 'get_default_data_and_model'"
     ]
    }
   ],
   "source": [
    "from pyexplainer.pyexplainer_pyexplainer import PyExplainer\n",
    "import pyexplainer.pyexplainer_pyexplainer as pyexplainer_pyexplainer\n",
    "\n",
    "default = pyexplainer_pyexplainer.get_default_data_and_model()\n",
    "py_explainer = PyExplainer(X_train=default['X_train'],\n",
    "                             y_train=default['y_train'],\n",
    "                             indep=default['indep'],\n",
    "                             dep=default['dep'],\n",
    "                             blackbox_model=default['blackbox_model'])\n",
    "rule = py_explainer.explain(default['X_explain'], default['y_explain'])\n",
    "py_explainer.visualise(rule)"
   ]
  },
  {
   "cell_type": "code",
   "execution_count": null,
   "id": "frozen-earth",
   "metadata": {},
   "outputs": [],
   "source": []
  }
 ],
 "metadata": {
  "kernelspec": {
   "display_name": "Python 3",
   "language": "python",
   "name": "python3"
  },
  "language_info": {
   "codemirror_mode": {
    "name": "ipython",
    "version": 3
   },
   "file_extension": ".py",
   "mimetype": "text/x-python",
   "name": "python",
   "nbconvert_exporter": "python",
   "pygments_lexer": "ipython3",
   "version": "3.8.8"
  }
 },
 "nbformat": 4,
 "nbformat_minor": 5
}
